{
 "cells": [
  {
   "cell_type": "markdown",
   "metadata": {
    "heading_collapsed": true
   },
   "source": [
    "# Import"
   ]
  },
  {
   "cell_type": "markdown",
   "metadata": {
    "hidden": true
   },
   "source": [
    "Run the cell below to import the package and set up the notebook with the default settings."
   ]
  },
  {
   "cell_type": "code",
   "execution_count": 3,
   "metadata": {
    "hidden": true
   },
   "outputs": [
    {
     "name": "stdout",
     "output_type": "stream",
     "text": [
      "Created `%mi` as an alias for `%matplotlib inline`.\n",
      "Created `%mn` as an alias for `%matplotlib notebook`.\n"
     ]
    }
   ],
   "source": [
    "# %load ../fullwavepy/config/jupyter.py\n",
    "from fullwavepy import * # Load modules imported in fullwavepy/__init__.py\n",
    "# -----------------------------------------------------------------------------\n",
    "# Set aliases of frequently used jupyter magic commands\n",
    "# -----------------------------------------------------------------------------\n",
    "%alias_magic mi matplotlib -p inline\n",
    "%alias_magic mn matplotlib -p notebook\n",
    "# -----------------------------------------------------------------------------\n",
    "# Set matplotlib backend\n",
    "# -----------------------------------------------------------------------------\n",
    "# non-interactive plots displayed in a notebook cell\n",
    "%matplotlib inline\n",
    "# interactive plots displayed in a notebook cell\n",
    "# %matplotlib notebook (interactive version)\n",
    "# -----------------------------------------------------------------------------\n",
    "# Set matplotlib style\n",
    "# ----------------------------------------------------------------------------\n",
    "plt.style.reload_library()\n",
    "# a combined style (right overwrites left wherever they overlap):\n",
    "plt.style.use(['default', 'ggplot'])\n",
    "# print(plt.style.available) \n",
    "# -----------------------------------------------------------------------------\n",
    "# Configure logging\n",
    "# -----------------------------------------------------------------------------\n",
    "# Set up loggers, handlers and load the log_lvl function\n",
    "from fullwavepy.config.logging import *\n",
    "# -----------------------------------------------------------------------------\n",
    "# Set level of log-messages\n",
    "log_lvl(INFO) \n",
    "# Other options in order of increasing importance and \n",
    "# decreasing verbosity:\n",
    "# TRACE, DEBUG, INFO, WARNING, ERROR, CRITICAL\n",
    "# or using integers: 0, 10, 20, 30, 40, 50, respectively\n",
    "# -----------------------------------------------------------------------------\n",
    "# Autocompleting\n",
    "# -----------------------------------------------------------------------------\n",
    "#  Not sure if it works\n",
    "#%config IPCompleter.greedy=True \n",
    "# -----------------------------------------------------------------------------\n",
    "# Automatically reload modules before execution\n",
    "#%load_ext autoreload\n",
    "#%autoreload 2\n"
   ]
  },
  {
   "cell_type": "markdown",
   "metadata": {
    "heading_collapsed": true
   },
   "source": [
    "# Check binaries"
   ]
  },
  {
   "cell_type": "markdown",
   "metadata": {
    "hidden": true
   },
   "source": [
    "Check if binaries of some executable programs are working."
   ]
  },
  {
   "cell_type": "code",
   "execution_count": 4,
   "metadata": {
    "hidden": true
   },
   "outputs": [
    {
     "name": "stdout",
     "output_type": "stream",
     "text": [
      "\n",
      "VTR to SEG-Y file conversion  -  v1.31\n",
      "****************************\n",
      "\n",
      "Output traces by in-line then x-line? (default = yes) >> ^C\n"
     ]
    }
   ],
   "source": [
    "!vtr2sgy"
   ]
  },
  {
   "cell_type": "code",
   "execution_count": 5,
   "metadata": {
    "hidden": true
   },
   "outputs": [
    {
     "name": "stdout",
     "output_type": "stream",
     "text": [
      "\n",
      "SEG-Y to VTR file conversion  -  v1.23\n",
      "****************************\n",
      "\n",
      "Traces ordered by in-line then x-line? (default = yes) >> ^C\n"
     ]
    }
   ],
   "source": [
    "!sgy2vtr"
   ]
  },
  {
   "cell_type": "code",
   "execution_count": 8,
   "metadata": {
    "hidden": true
   },
   "outputs": [
    {
     "name": "stdout",
     "output_type": "stream",
     "text": [
      "\n",
      " SEGYPREP  -  Version 3.16.04                                                     \n",
      " ********\n",
      "\n",
      " Data preparation for 2D & 3D wavefield tomography\n",
      "\n",
      " Project name? (dummy) >> ^C\n"
     ]
    }
   ],
   "source": [
    "!segyprep_v3.16 # can be probably replaced by other version and still work automatically"
   ]
  },
  {
   "cell_type": "code",
   "execution_count": 6,
   "metadata": {
    "hidden": true
   },
   "outputs": [
    {
     "name": "stdout",
     "output_type": "stream",
     "text": [
      " \t\t\t\t\t\t\t\t\r\n",
      " SURANGE - get max and min values for non-zero header entries\t\r\n",
      " \t\t\t\t\t\t\t\t\r\n",
      " surange <stdin\t \t\t\t\t\t\r\n",
      "\t\t\t\t\t\t\t\t\r\n",
      " Optional parameters:\t\t\t\t\t\t\r\n",
      "\tkey=\t\tHeader key(s) to range (default=all)\t\r\n",
      " \t\t\t\t\t\t\t\t\r\n",
      " Note: Gives partial results if interrupted\t\t\t\r\n",
      " \t\t\t\t\t\t\t\t\r\n",
      " Output is: \t\t\t\t\t\t\t\r\n",
      " number of traces \t\t\t\t\t\t\r\n",
      " keyword min max (first - last) \t\t\t\t\r\n",
      " north-south-east-west limits of shot, receiver and midpoint   \r\n",
      " \t\t\t\t\t\t\t\t\r\n"
     ]
    }
   ],
   "source": [
    "!surange"
   ]
  },
  {
   "cell_type": "code",
   "execution_count": 6,
   "metadata": {
    "hidden": true
   },
   "outputs": [
    {
     "name": "stdout",
     "output_type": "stream",
     "text": [
      " \t\t\t\t\t\t\t\t\r\n",
      " SURANGE - get max and min values for non-zero header entries\t\r\n",
      " \t\t\t\t\t\t\t\t\r\n",
      " surange <stdin\t \t\t\t\t\t\r\n",
      "\t\t\t\t\t\t\t\t\r\n",
      " Optional parameters:\t\t\t\t\t\t\r\n",
      "\tkey=\t\tHeader key(s) to range (default=all)\t\r\n",
      " \t\t\t\t\t\t\t\t\r\n",
      " Note: Gives partial results if interrupted\t\t\t\r\n",
      " \t\t\t\t\t\t\t\t\r\n",
      " Output is: \t\t\t\t\t\t\t\r\n",
      " number of traces \t\t\t\t\t\t\r\n",
      " keyword min max (first - last) \t\t\t\t\r\n",
      " north-south-east-west limits of shot, receiver and midpoint   \r\n",
      " \t\t\t\t\t\t\t\t\r\n"
     ]
    }
   ],
   "source": [
    "!surange"
   ]
  },
  {
   "cell_type": "markdown",
   "metadata": {},
   "source": [
    "# Run tests"
   ]
  },
  {
   "cell_type": "markdown",
   "metadata": {},
   "source": [
    "## Standard unit tests"
   ]
  },
  {
   "cell_type": "code",
   "execution_count": 2,
   "metadata": {},
   "outputs": [
    {
     "name": "stdout",
     "output_type": "stream",
     "text": [
      "test_extract (fullwavepy.seismic.test.test_data.TestDataSet) ... ok\n",
      "test_get_files (fullwavepy.seismic.test.test_data.TestDataSet) ... ok\n",
      "test_get_files_within_extent (fullwavepy.seismic.test.test_data.TestDataSet) ... ok\n",
      "test_get_stations_within_extent (fullwavepy.seismic.test.test_data.TestDataSet) ... ok\n",
      "test_read_metadata (fullwavepy.seismic.test.test_exps.TestPROTEUS) ... ok\n",
      "test_init (fullwavepy.seismic.test.test_metadata.TestBox3d) ... ok\n",
      "test_get_file_names (fullwavepy.seismic.test.test_wavefields.TestWavefield) ... ok\n",
      "test_io (fullwavepy.seismic.test.test_wavefields.TestWavefield) ... [4104, 4105, 4109, 4110, 4112, 4123, 4124, 4125, 4137, 4138, 4139, 4157, 4158, 4176, 4177, 4178]\n",
      "ok\n",
      "\n",
      "----------------------------------------------------------------------\n",
      "Ran 8 tests in 0.149s\n",
      "\n",
      "OK\n"
     ]
    }
   ],
   "source": [
    "!python3 -m unittest discover fullwavepy.seismic -v"
   ]
  },
  {
   "cell_type": "markdown",
   "metadata": {},
   "source": [
    "## Testing figures with `pytest`"
   ]
  },
  {
   "cell_type": "code",
   "execution_count": 14,
   "metadata": {},
   "outputs": [
    {
     "name": "stdout",
     "output_type": "stream",
     "text": [
      "\u001b[1m============================= test session starts ==============================\u001b[0m\n",
      "platform linux -- Python 3.5.2, pytest-5.3.5, py-1.8.0, pluggy-0.13.0\n",
      "Matplotlib: 3.0.3\n",
      "Freetype: 2.6.1\n",
      "rootdir: /home/kmc3817/software/fullwavepy\n",
      "plugins: cov-2.10.1, nbval-0.9.6, mpl-0.11, pylint-0.14.1\n",
      "collected 1 item                                                               \u001b[0m\u001b[1m\n",
      "\n",
      "../fullwavepy/seismic/pytest/test_plots.py \u001b[32m.\u001b[0m\u001b[32m                             [100%]\u001b[0m\n",
      "\n",
      "\u001b[32m============================== \u001b[32m\u001b[1m1 passed\u001b[0m\u001b[32m in 7.00s\u001b[0m\u001b[32m ===============================\u001b[0m\n"
     ]
    }
   ],
   "source": [
    "import fullwavepy.seismic.pytest.test_plots\n",
    "test_plots = fullwavepy.seismic.pytest.test_plots.__file__\n",
    "!pytest {test_plots} --mpl"
   ]
  },
  {
   "cell_type": "markdown",
   "metadata": {
    "heading_collapsed": true
   },
   "source": [
    "# Getting help"
   ]
  },
  {
   "cell_type": "code",
   "execution_count": 4,
   "metadata": {
    "hidden": true
   },
   "outputs": [
    {
     "name": "stdout",
     "output_type": "stream",
     "text": [
      "Help on package fullwavepy:\n",
      "\n",
      "NAME\n",
      "    fullwavepy\n",
      "\n",
      "PACKAGE CONTENTS\n",
      "    config (package)\n",
      "    dsp (package)\n",
      "    fd (package)\n",
      "    fwi (package)\n",
      "    generic (package)\n",
      "    ioapi (package)\n",
      "    ndat (package)\n",
      "    numeric (package)\n",
      "    plot (package)\n",
      "    project (package)\n",
      "    seismic (package)\n",
      "    utils\n",
      "\n",
      "DATA\n",
      "    interact = <ipywidgets.widgets.interaction._InteractFactory object>\n",
      "    interact_manual = <ipywidgets.widgets.interaction._InteractFactory obj...\n",
      "\n",
      "FILE\n",
      "    /home/kmc3817/software/fullwavepy/fullwavepy/__init__.py\n",
      "\n",
      "\n"
     ]
    }
   ],
   "source": [
    "import fullwavepy\n",
    "help(fullwavepy)"
   ]
  },
  {
   "cell_type": "code",
   "execution_count": 5,
   "metadata": {
    "hidden": true
   },
   "outputs": [
    {
     "name": "stdout",
     "output_type": "stream",
     "text": [
      "Help on package fullwavepy.seismic in fullwavepy:\n",
      "\n",
      "NAME\n",
      "    fullwavepy.seismic\n",
      "\n",
      "DESCRIPTION\n",
      "    Package `seismic` provides class-handles\n",
      "    for various data-structures typically \n",
      "    encountered in seismic experiments.\n",
      "\n",
      "PACKAGE CONTENTS\n",
      "    data\n",
      "    exp\n",
      "    metadata\n",
      "    misc\n",
      "    models\n",
      "    plots\n",
      "    proteus\n",
      "    rainbow\n",
      "    srcrec\n",
      "    surfs\n",
      "    test (package)\n",
      "    wavefields\n",
      "    wavelets\n",
      "\n",
      "FILE\n",
      "    /home/kmc3817/software/fullwavepy/fullwavepy/seismic/__init__.py\n",
      "\n",
      "\n"
     ]
    }
   ],
   "source": [
    "help(fullwavepy.seismic)"
   ]
  },
  {
   "cell_type": "code",
   "execution_count": 6,
   "metadata": {
    "hidden": true
   },
   "outputs": [
    {
     "name": "stdout",
     "output_type": "stream",
     "text": [
      "Help on module fullwavepy.seismic.proteus in fullwavepy.seismic:\n",
      "\n",
      "NAME\n",
      "    fullwavepy.seismic.proteus\n",
      "\n",
      "DESCRIPTION\n",
      "    This module defines all objects specific to the PROTEUS experiment.\n",
      "    The rationale is to back up and conveniently exchange (meta)data  \n",
      "    between different Jupyter notebooks.\n",
      "    \n",
      "    (c) 2021- Kajetan Chrapkiewicz.\n",
      "    Copywright: Ask for permission writing to k.chrapkiewicz17@imperial.ac.uk.\n",
      "\n",
      "CLASSES\n",
      "    builtins.object\n",
      "        CoordSystem\n",
      "    fullwavepy.seismic.exp.Experiment(abc.ABC)\n",
      "        PROTEUS(fullwavepy.seismic.exp.Experiment, fullwavepy.seismic.plots.PlotExp)\n",
      "    fullwavepy.seismic.plots.PlotExp(builtins.object)\n",
      "        PROTEUS(fullwavepy.seismic.exp.Experiment, fullwavepy.seismic.plots.PlotExp)\n",
      "    \n",
      "    class CoordSystem(builtins.object)\n",
      "     |  Methods defined here:\n",
      "     |  \n",
      "     |  latlon2local(ix, iy, nhl, delim)\n",
      "     |      A function to automate coordinates transformation - \n",
      "     |      Michele Paulatto - 11/05/2017\n",
      "     |      This is the transformation used by Ben for Santorini\n",
      "     |      Must provide projection parameters (hard-wired), input and output files\n",
      "     |       and column \n",
      "     |      indexes correspoding to longitude and latitude (assumed to be in decimal \n",
      "     |      degrees)\n",
      "     |      Also provide number of header lines to skip (nhl) and the text delimiter.\n",
      "     |      If nhl is set to -1 it will try to read variable names from the header. \n",
      "     |      This may not work if the names contain characters that are not allowed in \n",
      "     |      the Matlab \n",
      "     |      database.\n",
      "     |      This function will convert the coordinates and add them as extra columns\n",
      "     |      to the input.\n",
      "     |      Usage example from the command ine:\n",
      "     |      matlab -nodisplay -nojvm -r \"latlon2local 'input.txt' 'output.txt' 1 2 1 '  ';\n",
      "     |      exit\"\n",
      "     |  \n",
      "     |  ----------------------------------------------------------------------\n",
      "     |  Data descriptors defined here:\n",
      "     |  \n",
      "     |  __dict__\n",
      "     |      dictionary for instance variables (if defined)\n",
      "     |  \n",
      "     |  __weakref__\n",
      "     |      list of weak references to the object (if defined)\n",
      "    \n",
      "    class PROTEUS(fullwavepy.seismic.exp.Experiment, fullwavepy.seismic.plots.PlotExp)\n",
      "     |  Handle for various (meta)data\n",
      "     |  associated with the PROTEUS experiment\n",
      "     |  (see Hooft et al., 2017).\n",
      "     |  \n",
      "     |  Method resolution order:\n",
      "     |      PROTEUS\n",
      "     |      fullwavepy.seismic.exp.Experiment\n",
      "     |      abc.ABC\n",
      "     |      fullwavepy.seismic.plots.PlotExp\n",
      "     |      builtins.object\n",
      "     |  \n",
      "     |  Methods defined here:\n",
      "     |  \n",
      "     |  __init__(self, **kwargs)\n",
      "     |      Initialize self.  See help(type(self)) for accurate signature.\n",
      "     |  \n",
      "     |  read_all(self)\n",
      "     |  \n",
      "     |  read_bathy_topo(self)\n",
      "     |  \n",
      "     |  read_metadata(self)\n",
      "     |  \n",
      "     |  ----------------------------------------------------------------------\n",
      "     |  Data and other attributes defined here:\n",
      "     |  \n",
      "     |  __abstractmethods__ = frozenset()\n",
      "     |  \n",
      "     |  ----------------------------------------------------------------------\n",
      "     |  Class methods inherited from fullwavepy.seismic.exp.Experiment:\n",
      "     |  \n",
      "     |  create(ID, *args, **kwargs) from abc.ABCMeta\n",
      "     |  \n",
      "     |  ----------------------------------------------------------------------\n",
      "     |  Data descriptors inherited from abc.ABC:\n",
      "     |  \n",
      "     |  __dict__\n",
      "     |      dictionary for instance variables (if defined)\n",
      "     |  \n",
      "     |  __weakref__\n",
      "     |      list of weak references to the object (if defined)\n",
      "     |  \n",
      "     |  ----------------------------------------------------------------------\n",
      "     |  Methods inherited from fullwavepy.seismic.plots.PlotExp:\n",
      "     |  \n",
      "     |  plot_acq(self, extent=[[-60000.0, 60000.0], [-12000.0, 30000.0]], acq=True, bt=True, box=True, zoom=True, fig=None)\n",
      "\n",
      "DATA\n",
      "    path_prot = '/home/kmc3817/software/fullwavepy/fullwavepy/seismic/prot...\n",
      "\n",
      "FILE\n",
      "    /home/kmc3817/software/fullwavepy/fullwavepy/seismic/proteus.py\n",
      "\n",
      "\n"
     ]
    }
   ],
   "source": [
    "help(fullwavepy.seismic.proteus)"
   ]
  },
  {
   "cell_type": "code",
   "execution_count": 9,
   "metadata": {
    "hidden": true
   },
   "outputs": [
    {
     "data": {
      "text/plain": [
       "['_PlotExp__log',\n",
       " '__abstractmethods__',\n",
       " '__class__',\n",
       " '__delattr__',\n",
       " '__dict__',\n",
       " '__dir__',\n",
       " '__doc__',\n",
       " '__eq__',\n",
       " '__format__',\n",
       " '__ge__',\n",
       " '__getattribute__',\n",
       " '__gt__',\n",
       " '__hash__',\n",
       " '__init__',\n",
       " '__le__',\n",
       " '__lt__',\n",
       " '__module__',\n",
       " '__ne__',\n",
       " '__new__',\n",
       " '__reduce__',\n",
       " '__reduce_ex__',\n",
       " '__repr__',\n",
       " '__setattr__',\n",
       " '__sizeof__',\n",
       " '__str__',\n",
       " '__subclasshook__',\n",
       " '__weakref__',\n",
       " '_abc_cache',\n",
       " '_abc_negative_cache',\n",
       " '_abc_negative_cache_version',\n",
       " '_abc_registry',\n",
       " '_get_instrument_pools',\n",
       " '_init_base_files',\n",
       " '_init_paths',\n",
       " '_init_segy_mapping',\n",
       " '_init_start_vp',\n",
       " '_plot_bathy_topo',\n",
       " '_plot_box',\n",
       " '_plot_stations',\n",
       " '_zoom',\n",
       " 'create',\n",
       " 'plot_acq',\n",
       " 'read_all',\n",
       " 'read_bathy_topo',\n",
       " 'read_metadata']"
      ]
     },
     "execution_count": 9,
     "metadata": {},
     "output_type": "execute_result"
    }
   ],
   "source": [
    "from fullwavepy.seismic.proteus import PROTEUS\n",
    "dir(PROTEUS)"
   ]
  },
  {
   "cell_type": "markdown",
   "metadata": {},
   "source": [
    "# ..."
   ]
  }
 ],
 "metadata": {
  "kernelspec": {
   "display_name": "Python 3",
   "language": "python",
   "name": "python3"
  },
  "language_info": {
   "codemirror_mode": {
    "name": "ipython",
    "version": 3
   },
   "file_extension": ".py",
   "mimetype": "text/x-python",
   "name": "python",
   "nbconvert_exporter": "python",
   "pygments_lexer": "ipython3",
   "version": "3.5.2"
  },
  "latex_envs": {
   "LaTeX_envs_menu_present": true,
   "autoclose": false,
   "autocomplete": true,
   "bibliofile": "biblio.bib",
   "cite_by": "apalike",
   "current_citInitial": 1,
   "eqLabelWithNumbers": true,
   "eqNumInitial": 1,
   "hotkeys": {
    "equation": "Ctrl-E",
    "itemize": "Ctrl-I"
   },
   "labels_anchors": false,
   "latex_user_defs": false,
   "report_style_numbering": false,
   "user_envs_cfg": false
  },
  "toc": {
   "base_numbering": 1,
   "nav_menu": {},
   "number_sections": false,
   "sideBar": false,
   "skip_h1_title": false,
   "title_cell": "Table of Contents",
   "title_sidebar": "Contents",
   "toc_cell": false,
   "toc_position": {},
   "toc_section_display": true,
   "toc_window_display": false
  }
 },
 "nbformat": 4,
 "nbformat_minor": 2
}
