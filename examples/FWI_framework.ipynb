{
 "cells": [
  {
   "cell_type": "markdown",
   "metadata": {
    "slideshow": {
     "slide_type": "skip"
    }
   },
   "source": [
    "#### Notebook config"
   ]
  },
  {
   "cell_type": "code",
   "execution_count": 1,
   "metadata": {
    "code_folding": [
     0
    ],
    "run_control": {
     "marked": true
    }
   },
   "outputs": [
    {
     "name": "stdout",
     "output_type": "stream",
     "text": [
      "Created `%mi` as an alias for `%matplotlib inline`.\n",
      "Created `%mn` as an alias for `%matplotlib notebook`.\n"
     ]
    }
   ],
   "source": [
    "# %load ../fullwavepy/config/jupyter.py\n",
    "from fullwavepy import * # Load modules imported in fullwavepy/__init__.py\n",
    "# -----------------------------------------------------------------------------\n",
    "# Set aliases of frequently used jupyter magic commands\n",
    "# -----------------------------------------------------------------------------\n",
    "%alias_magic mi matplotlib -p inline\n",
    "%alias_magic mn matplotlib -p notebook\n",
    "# -----------------------------------------------------------------------------\n",
    "# Set matplotlib backend\n",
    "# -----------------------------------------------------------------------------\n",
    "# non-interactive plots displayed in a notebook cell\n",
    "%matplotlib inline\n",
    "# interactive plots displayed in a notebook cell\n",
    "# %matplotlib notebook (interactive version)\n",
    "# -----------------------------------------------------------------------------\n",
    "# Set matplotlib style\n",
    "# ----------------------------------------------------------------------------\n",
    "plt.style.reload_library()\n",
    "# a combined style (right overwrites left wherever they overlap):\n",
    "plt.style.use(['default', 'ggplot'])\n",
    "# print(plt.style.available) \n",
    "# -----------------------------------------------------------------------------\n",
    "# Configure logging\n",
    "# -----------------------------------------------------------------------------\n",
    "# Set up loggers, handlers and load the log_lvl function\n",
    "from fullwavepy.config.logging import *\n",
    "# -----------------------------------------------------------------------------\n",
    "# Set level of log-messages\n",
    "log_lvl(INFO) \n",
    "# Other options in order of increasing importance and \n",
    "# decreasing verbosity:\n",
    "# TRACE, DEBUG, INFO, WARNING, ERROR, CRITICAL\n",
    "# or using integers: 0, 10, 20, 30, 40, 50, respectively\n",
    "# -----------------------------------------------------------------------------\n",
    "# Autocompleting\n",
    "# -----------------------------------------------------------------------------\n",
    "#  Not sure if it works\n",
    "#%config IPCompleter.greedy=True \n",
    "# -----------------------------------------------------------------------------\n",
    "# Automatically reload modules before execution\n",
    "#%load_ext autoreload\n",
    "#%autoreload 2"
   ]
  },
  {
   "cell_type": "markdown",
   "metadata": {
    "slideshow": {
     "slide_type": "skip"
    }
   },
   "source": [
    "# Intro"
   ]
  },
  {
   "cell_type": "markdown",
   "metadata": {},
   "source": [
    "FWI is conceptually simple but usually requires a lot of data manipulation and parameter tuning to make it work successfully. Hence a need for convenient, robust and extensible framework that automates the process and allows to focus on research questions rather than technicalities."
   ]
  },
  {
   "cell_type": "markdown",
   "metadata": {
    "slideshow": {
     "slide_type": "skip"
    }
   },
   "source": [
    "## Testing your installation"
   ]
  },
  {
   "cell_type": "code",
   "execution_count": 14,
   "metadata": {},
   "outputs": [
    {
     "name": "stdout",
     "output_type": "stream",
     "text": [
      "{'aniso': <fullwavepy.fwi.project.Anisotropy object at 0x7fa191fec320>}\r\n",
      ".\r\n",
      "----------------------------------------------------------------------\r\n",
      "Ran 1 test in 0.000s\r\n",
      "\r\n",
      "OK\r\n"
     ]
    }
   ],
   "source": [
    "!python3 -m unittest discover fullwavepy.fwi.test"
   ]
  },
  {
   "cell_type": "code",
   "execution_count": 20,
   "metadata": {},
   "outputs": [
    {
     "name": "stdout",
     "output_type": "stream",
     "text": [
      "christiana3d\t     Get_started.ipynb\tIO-API.ipynb  Overview.ipynb\r\n",
      "FWI_framework.ipynb  homogeneous2d\tmarmousi2d    tidy_up.sh\r\n"
     ]
    }
   ],
   "source": [
    "!ls"
   ]
  },
  {
   "cell_type": "markdown",
   "metadata": {
    "slideshow": {
     "slide_type": "skip"
    }
   },
   "source": [
    "# Projects"
   ]
  },
  {
   "cell_type": "markdown",
   "metadata": {
    "run_control": {
     "marked": false
    }
   },
   "source": [
    "`FullwavePy` project is something defined uniquely by FWI input files. In this sense, a project has exactly one Runfile but can have multiple auxiliary, job-specific files (e.g. Out.log, Run.pbs, JobInfo.txt, etc.) that have job-file identifiers embedded in their names (actual names Out0.log, etc.). Obviously, output files are job-specific too, but currently they are overwritten after each job-run instead of being endowed with such ids (to save disk space). To preserve them, one needs to create a new project.\n",
    "\n",
    "The basic building blocks of any project are seismic objects. They are abstract objects i.e. they are not bound to any specific I/O implementation. Plotting of the data should be independent of the io. The binding needed is done under the hood by `fwio` interface.\n",
    "\n"
   ]
  },
  {
   "cell_type": "markdown",
   "metadata": {
    "heading_collapsed": true,
    "slideshow": {
     "slide_type": "skip"
    }
   },
   "source": [
    "# Workflows"
   ]
  },
  {
   "cell_type": "markdown",
   "metadata": {
    "slideshow": {
     "slide_type": "skip"
    }
   },
   "source": [
    "# ..."
   ]
  }
 ],
 "metadata": {
  "kernelspec": {
   "display_name": "Python 3",
   "language": "python",
   "name": "python3"
  },
  "language_info": {
   "codemirror_mode": {
    "name": "ipython",
    "version": 3
   },
   "file_extension": ".py",
   "mimetype": "text/x-python",
   "name": "python",
   "nbconvert_exporter": "python",
   "pygments_lexer": "ipython3",
   "version": "3.5.2"
  },
  "latex_envs": {
   "LaTeX_envs_menu_present": true,
   "autoclose": false,
   "autocomplete": true,
   "bibliofile": "biblio.bib",
   "cite_by": "apalike",
   "current_citInitial": 1,
   "eqLabelWithNumbers": true,
   "eqNumInitial": 1,
   "hotkeys": {
    "equation": "Ctrl-E",
    "itemize": "Ctrl-I"
   },
   "labels_anchors": false,
   "latex_user_defs": false,
   "report_style_numbering": false,
   "user_envs_cfg": false
  },
  "toc": {
   "base_numbering": 1,
   "nav_menu": {},
   "number_sections": false,
   "sideBar": false,
   "skip_h1_title": false,
   "title_cell": "Table of Contents",
   "title_sidebar": "Contents",
   "toc_cell": false,
   "toc_position": {},
   "toc_section_display": true,
   "toc_window_display": false
  }
 },
 "nbformat": 4,
 "nbformat_minor": 2
}
